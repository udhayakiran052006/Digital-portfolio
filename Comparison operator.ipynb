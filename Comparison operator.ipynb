{
  "cells": [
    {
      "cell_type": "markdown",
      "metadata": {
        "id": "view-in-github",
        "colab_type": "text"
      },
      "source": [
        "<a href=\"https://colab.research.google.com/github/udhayakiran052006/Digital-portfolio/blob/main/Comparison%20operator.ipynb\" target=\"_parent\"><img src=\"https://colab.research.google.com/assets/colab-badge.svg\" alt=\"Open In Colab\"/></a>"
      ]
    },
    {
      "cell_type": "markdown",
      "source": [
        "Comparison operator"
      ],
      "metadata": {
        "id": "tbtw6pVxO14a"
      }
    },
    {
      "cell_type": "code",
      "source": [
        "\n",
        "# Declare variables\n",
        "A = 10\n",
        "B = 5\n",
        "\n",
        "# Comparison operators\n",
        "print(\"A == B (Equal):\", A == B)\n",
        "print(\"A != B (Not Equal):\", A != B)\n",
        "print(\"A > B (Greater Than):\", A > B)\n",
        "print(\"A < B (Less Than):\", A < B)\n",
        "print(\"A >= B (Greater Than or Equal):\", A >= B)\n",
        "print(\"A <= B (Less Than or Equal):\", A <= B)"
      ],
      "metadata": {
        "id": "FGU2Qow0O2rP",
        "outputId": "2e5e6834-4035-4afa-b2be-9346f89f0fba",
        "colab": {
          "base_uri": "https://localhost:8080/"
        }
      },
      "execution_count": 9,
      "outputs": [
        {
          "output_type": "stream",
          "name": "stdout",
          "text": [
            "A == B (Equal): False\n",
            "A != B (Not Equal): True\n",
            "A > B (Greater Than): True\n",
            "A < B (Less Than): False\n",
            "A >= B (Greater Than or Equal): True\n",
            "A <= B (Less Than or Equal): False\n"
          ]
        }
      ]
    }
  ],
  "metadata": {
    "colab": {
      "name": "Welcome To Colab",
      "provenance": [],
      "include_colab_link": true
    },
    "kernelspec": {
      "display_name": "Python 3",
      "name": "python3"
    }
  },
  "nbformat": 4,
  "nbformat_minor": 0
}