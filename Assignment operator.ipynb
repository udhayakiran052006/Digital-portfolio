{
  "cells": [
    {
      "cell_type": "markdown",
      "metadata": {
        "id": "view-in-github",
        "colab_type": "text"
      },
      "source": [
        "<a href=\"https://colab.research.google.com/github/udhayakiran052006/Digital-portfolio/blob/main/Assignment%20operator.ipynb\" target=\"_parent\"><img src=\"https://colab.research.google.com/assets/colab-badge.svg\" alt=\"Open In Colab\"/></a>"
      ]
    },
    {
      "cell_type": "markdown",
      "source": [
        "Assignment operator"
      ],
      "metadata": {
        "id": "prJB2Q8oOKRK"
      }
    },
    {
      "cell_type": "code",
      "source": [
        "# Declare a variable\n",
        "x = 10\n",
        "\n",
        "# Multiplication assignment\n",
        "x *= 2  # equivalent to x = x * 2\n",
        "print(\"Multiplication Assignment:\", x)\n",
        "\n",
        "# Division assignment\n",
        "x /= 2  # equivalent to x = x / 2\n",
        "print(\"Division Assignment:\", x)"
      ],
      "metadata": {
        "id": "iUXm2X1iOTND",
        "outputId": "838b3c29-444d-446d-a180-e9c3bafae0d2",
        "colab": {
          "base_uri": "https://localhost:8080/"
        }
      },
      "execution_count": 7,
      "outputs": [
        {
          "output_type": "stream",
          "name": "stdout",
          "text": [
            "Multiplication Assignment: 20\n",
            "Division Assignment: 10.0\n"
          ]
        }
      ]
    }
  ],
  "metadata": {
    "colab": {
      "name": "Welcome To Colab",
      "provenance": [],
      "include_colab_link": true
    },
    "kernelspec": {
      "display_name": "Python 3",
      "name": "python3"
    }
  },
  "nbformat": 4,
  "nbformat_minor": 0
}