{
  "cells": [
    {
      "cell_type": "markdown",
      "metadata": {
        "id": "view-in-github",
        "colab_type": "text"
      },
      "source": [
        "<a href=\"https://colab.research.google.com/github/udhayakiran052006/Digital-portfolio/blob/main/Float.ipynb\" target=\"_parent\"><img src=\"https://colab.research.google.com/assets/colab-badge.svg\" alt=\"Open In Colab\"/></a>"
      ]
    },
    {
      "cell_type": "markdown",
      "source": [
        "Float"
      ],
      "metadata": {
        "id": "fCna_N-1L947"
      }
    },
    {
      "cell_type": "code",
      "source": [
        "# Declare float variables\n",
        "a = 10.5\n",
        "b = 3.2\n",
        "\n",
        "# Arithmetic operations\n",
        "print(\"Addition:\", a + b)\n",
        "print(\"Subtraction:\", a - b)\n",
        "print(\"Multiplication:\", a * b)\n",
        "print(\"Division:\", a / b)\n",
        "\n",
        "# Rounding operations\n",
        "print(\"Round to nearest integer:\", round(a))\n",
        "print(\"Round to 1 decimal place:\", round(a, 1))\n",
        "\n",
        "# Comparison operations\n",
        "print(\"Equal:\", a == b)\n",
        "print(\"Not Equal:\", a != b)\n",
        "print(\"Greater Than:\", a > b)\n",
        "print(\"Less Than:\", a < b)"
      ],
      "metadata": {
        "id": "lHC_JFudMBk-",
        "outputId": "145d3ed1-2ff0-4b73-a60c-557204721556",
        "colab": {
          "base_uri": "https://localhost:8080/"
        }
      },
      "execution_count": 3,
      "outputs": [
        {
          "output_type": "stream",
          "name": "stdout",
          "text": [
            "Addition: 13.7\n",
            "Subtraction: 7.3\n",
            "Multiplication: 33.6\n",
            "Division: 3.28125\n",
            "Round to nearest integer: 10\n",
            "Round to 1 decimal place: 10.5\n",
            "Equal: False\n",
            "Not Equal: True\n",
            "Greater Than: True\n",
            "Less Than: False\n"
          ]
        }
      ]
    }
  ],
  "metadata": {
    "colab": {
      "name": "Welcome To Colab",
      "provenance": [],
      "include_colab_link": true
    },
    "kernelspec": {
      "display_name": "Python 3",
      "name": "python3"
    }
  },
  "nbformat": 4,
  "nbformat_minor": 0
}