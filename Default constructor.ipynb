{
  "cells": [
    {
      "cell_type": "markdown",
      "metadata": {
        "id": "view-in-github",
        "colab_type": "text"
      },
      "source": [
        "<a href=\"https://colab.research.google.com/github/udhayakiran052006/Digital-portfolio/blob/main/Default%20constructor.ipynb\" target=\"_parent\"><img src=\"https://colab.research.google.com/assets/colab-badge.svg\" alt=\"Open In Colab\"/></a>"
      ]
    },
    {
      "cell_type": "markdown",
      "source": [
        "Default constructor"
      ],
      "metadata": {
        "id": "siAdIdAliZ_4"
      }
    },
    {
      "cell_type": "code",
      "source": [
        "\n",
        "# Class: Vehicle\n",
        "class Vehicle:\n",
        "    # Default constructor\n",
        "    def __init__(self):\n",
        "        self.type = \"Unknown\"\n",
        "        self.brand = \"Unknown\"\n",
        "        self.model = \"Unknown\"\n",
        "        print(\"Default vehicle created.\")\n",
        "\n",
        "    # Method to display details\n",
        "    def display_details(self):\n",
        "        print(f\"Type: {self.type}\")\n",
        "        print(f\"Brand: {self.brand}\")\n",
        "        print(f\"Model: {self.model}\")\n",
        "\n",
        "# Create an instance\n",
        "vehicle = Vehicle()\n",
        "\n",
        "# Display details\n",
        "vehicle.display_details()"
      ],
      "metadata": {
        "id": "WOhrG9zWicdq",
        "outputId": "2abc0c93-57fe-460a-b8e2-b9e4a09757a0",
        "colab": {
          "base_uri": "https://localhost:8080/"
        }
      },
      "execution_count": 18,
      "outputs": [
        {
          "output_type": "stream",
          "name": "stdout",
          "text": [
            "Default vehicle created.\n",
            "Type: Unknown\n",
            "Brand: Unknown\n",
            "Model: Unknown\n"
          ]
        }
      ]
    }
  ],
  "metadata": {
    "colab": {
      "name": "Welcome To Colab",
      "provenance": [],
      "include_colab_link": true
    },
    "kernelspec": {
      "display_name": "Python 3",
      "name": "python3"
    }
  },
  "nbformat": 4,
  "nbformat_minor": 0
}