{
  "cells": [
    {
      "cell_type": "markdown",
      "metadata": {
        "id": "view-in-github",
        "colab_type": "text"
      },
      "source": [
        "<a href=\"https://colab.research.google.com/github/udhayakiran052006/Digital-portfolio/blob/main/Abstraction.ipynb\" target=\"_parent\"><img src=\"https://colab.research.google.com/assets/colab-badge.svg\" alt=\"Open In Colab\"/></a>"
      ]
    },
    {
      "cell_type": "markdown",
      "source": [
        "Abstraction"
      ],
      "metadata": {
        "id": "J746LmpEPpTh"
      }
    },
    {
      "cell_type": "code",
      "source": [
        "\n",
        "# Abstract class: Person\n",
        "from abc import ABC, abstractmethod\n",
        "\n",
        "class Person(ABC):\n",
        "    def __init__(self, name, age):\n",
        "        self.name = name\n",
        "        self.age = age\n",
        "\n",
        "    @abstractmethod\n",
        "    def display_details(self):\n",
        "        pass\n",
        "\n",
        "    @abstractmethod\n",
        "    def work(self):\n",
        "        pass\n",
        "\n",
        "# Concrete class: Employee\n",
        "class Employee(Person):\n",
        "    def __init__(self, name, age, employee_id):\n",
        "        super().__init__(name, age)\n",
        "        self.employee_id = employee_id\n",
        "\n",
        "    def display_details(self):\n",
        "        print(\"Name:\", self.name)\n",
        "        print(\"Age:\", self.age)\n",
        "        print(\"Employee ID:\", self.employee_id)\n",
        "\n",
        "    def work(self):\n",
        "        print(f\"{self.name} is working as an employee.\")\n",
        "\n",
        "# Concrete class: Student\n",
        "class Student(Person):\n",
        "    def __init__(self, name, age, student_id):\n",
        "        super().__init__(name, age)\n",
        "        self.student_id = student_id\n",
        "\n",
        "    def display_details(self):\n",
        "        print(\"Name:\", self.name)\n",
        "        print(\"Age:\", self.age)\n",
        "        print(\"Student ID:\", self.student_id)\n",
        "\n",
        "    def work(self):\n",
        "        print(f\"{self.name} is studying.\")\n",
        "\n",
        "# Create instances\n",
        "employee = Employee(\"John Doe\", 30, \"E123\")\n",
        "student = Student(\"Jane Doe\", 20, \"S456\")\n",
        "\n",
        "# Display details and work\n",
        "employee.display_details()\n",
        "employee.work()\n",
        "print()\n",
        "student.display_details()\n",
        "student.work()"
      ],
      "metadata": {
        "id": "kX_7NgWBPp56",
        "outputId": "c2eb1633-ed71-43ba-baa9-8919e6566ea8",
        "colab": {
          "base_uri": "https://localhost:8080/"
        }
      },
      "execution_count": 12,
      "outputs": [
        {
          "output_type": "stream",
          "name": "stdout",
          "text": [
            "Name: John Doe\n",
            "Age: 30\n",
            "Employee ID: E123\n",
            "John Doe is working as an employee.\n",
            "\n",
            "Name: Jane Doe\n",
            "Age: 20\n",
            "Student ID: S456\n",
            "Jane Doe is studying.\n"
          ]
        }
      ]
    }
  ],
  "metadata": {
    "colab": {
      "name": "Welcome To Colab",
      "provenance": [],
      "include_colab_link": true
    },
    "kernelspec": {
      "display_name": "Python 3",
      "name": "python3"
    }
  },
  "nbformat": 4,
  "nbformat_minor": 0
}