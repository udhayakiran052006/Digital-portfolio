{
  "cells": [
    {
      "cell_type": "markdown",
      "metadata": {
        "id": "view-in-github",
        "colab_type": "text"
      },
      "source": [
        "<a href=\"https://colab.research.google.com/github/udhayakiran052006/Digital-portfolio/blob/main/Boolean.ipynb\" target=\"_parent\"><img src=\"https://colab.research.google.com/assets/colab-badge.svg\" alt=\"Open In Colab\"/></a>"
      ]
    },
    {
      "cell_type": "markdown",
      "source": [
        "Boolean"
      ],
      "metadata": {
        "id": "toCmpp4pNHhY"
      }
    },
    {
      "cell_type": "code",
      "source": [
        "# Declare Boolean variables\n",
        "a = True\n",
        "b = False\n",
        "\n",
        "# Logical operations\n",
        "print(\"AND:\", a and b)\n",
        "print(\"OR:\", a or b)\n",
        "print(\"NOT:\", not a)\n",
        "print(\"NOT:\", not b)\n",
        "\n",
        "# Comparison operations\n",
        "print(\"Equal:\", a == b)\n",
        "print(\"Not Equal:\", a != b)\n",
        "\n",
        "# Conditional statements\n",
        "if a:\n",
        "    print(\"a is True\")\n",
        "else:\n",
        "    print(\"a is False\")\n",
        "\n",
        "if not b:\n",
        "    print(\"b is False\")\n",
        "else:\n",
        "    print(\"b is True\")"
      ],
      "metadata": {
        "id": "SjWi1A35NJUy",
        "outputId": "8b5bcf93-1d32-482f-e028-6e6d1dc3ff85",
        "colab": {
          "base_uri": "https://localhost:8080/"
        }
      },
      "execution_count": 4,
      "outputs": [
        {
          "output_type": "stream",
          "name": "stdout",
          "text": [
            "AND: False\n",
            "OR: True\n",
            "NOT: False\n",
            "NOT: True\n",
            "Equal: False\n",
            "Not Equal: True\n",
            "a is True\n",
            "b is False\n"
          ]
        }
      ]
    }
  ],
  "metadata": {
    "colab": {
      "name": "Welcome To Colab",
      "provenance": [],
      "include_colab_link": true
    },
    "kernelspec": {
      "display_name": "Python 3",
      "name": "python3"
    }
  },
  "nbformat": 4,
  "nbformat_minor": 0
}