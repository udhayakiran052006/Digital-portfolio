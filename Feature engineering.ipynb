{
  "cells": [
    {
      "cell_type": "markdown",
      "metadata": {
        "id": "view-in-github",
        "colab_type": "text"
      },
      "source": [
        "<a href=\"https://colab.research.google.com/github/udhayakiran052006/Digital-portfolio/blob/main/Feature%20engineering.ipynb\" target=\"_parent\"><img src=\"https://colab.research.google.com/assets/colab-badge.svg\" alt=\"Open In Colab\"/></a>"
      ]
    },
    {
      "cell_type": "markdown",
      "source": [
        "Feature engineering"
      ],
      "metadata": {
        "id": "NMSfjIhMinKz"
      }
    },
    {
      "cell_type": "code",
      "source": [
        "\n",
        "import pandas as pd\n",
        "from sklearn.preprocessing import StandardScaler\n",
        "from sklearn.model_selection import train_test_split\n",
        "\n",
        "# Create a sample dataset\n",
        "data = {\n",
        "    'Age': [22, 25, 47, 52, 46, 56, 55, 60, 62, 61],\n",
        "    'Income': [50000, 55000, 65000, 70000, 75000, 80000, 60000, 70000, 75000, 55000],\n",
        "    'Experience': [2, 5, 10, 15, 12, 18, 8, 12, 15, 10]\n",
        "}\n",
        "df = pd.DataFrame(data)\n",
        "\n",
        "# Feature engineering: Scaling\n",
        "scaler = StandardScaler()\n",
        "df[['Age', 'Income', 'Experience']] = scaler.fit_transform(df[['Age', 'Income', 'Experience']])\n",
        "\n",
        "# Feature engineering: Creating a new feature\n",
        "df['Age_Squared'] = df['Age'] ** 2\n",
        "\n",
        "# Split data into training and testing sets\n",
        "X = df[['Age', 'Income', 'Experience', 'Age_Squared']]\n",
        "y = df['Income']  # Target variable\n",
        "X_train, X_test, y_train, y_test = train_test_split(X, y, test_size=0.2, random_state=42)\n",
        "\n",
        "print(\"Original DataFrame:\")\n",
        "print(df.head())\n",
        "\n",
        "print(\"\\nTraining Data:\")\n",
        "print(X_train.head())\n",
        "\n",
        "print(\"\\nTesting Data:\")\n",
        "print(X_test.head())"
      ],
      "metadata": {
        "id": "EWcXRHSZipz3",
        "outputId": "c0b0aa6e-d388-497a-f921-1742417c3e56",
        "colab": {
          "base_uri": "https://localhost:8080/"
        }
      },
      "execution_count": 19,
      "outputs": [
        {
          "output_type": "stream",
          "name": "stdout",
          "text": [
            "Original DataFrame:\n",
            "        Age    Income  Experience  Age_Squared\n",
            "0 -1.958638 -1.613796   -1.898044     3.836261\n",
            "1 -1.737739 -1.093216   -1.243546     3.019735\n",
            "2 -0.117813 -0.052058   -0.152716     0.013880\n",
            "3  0.250352  0.468521    0.938114     0.062676\n",
            "4 -0.191446  0.989100    0.283616     0.036651\n",
            "\n",
            "Training Data:\n",
            "        Age    Income  Experience  Age_Squared\n",
            "5  0.544884  1.509680    1.592611     0.296899\n",
            "0 -1.958638 -1.613796   -1.898044     3.836261\n",
            "7  0.839416  0.468521    0.283616     0.704619\n",
            "2 -0.117813 -0.052058   -0.152716     0.013880\n",
            "9  0.913049 -1.093216   -0.152716     0.833659\n",
            "\n",
            "Testing Data:\n",
            "        Age    Income  Experience  Age_Squared\n",
            "8  0.986682  0.989100    0.938114     0.973542\n",
            "1 -1.737739 -1.093216   -1.243546     3.019735\n"
          ]
        }
      ]
    }
  ],
  "metadata": {
    "colab": {
      "name": "Welcome To Colab",
      "provenance": [],
      "include_colab_link": true
    },
    "kernelspec": {
      "display_name": "Python 3",
      "name": "python3"
    }
  },
  "nbformat": 4,
  "nbformat_minor": 0
}