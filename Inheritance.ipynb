{
  "cells": [
    {
      "cell_type": "markdown",
      "metadata": {
        "id": "view-in-github",
        "colab_type": "text"
      },
      "source": [
        "<a href=\"https://colab.research.google.com/github/udhayakiran052006/Digital-portfolio/blob/main/Inheritance.ipynb\" target=\"_parent\"><img src=\"https://colab.research.google.com/assets/colab-badge.svg\" alt=\"Open In Colab\"/></a>"
      ]
    },
    {
      "cell_type": "markdown",
      "source": [
        "Inheritance"
      ],
      "metadata": {
        "id": "79x9mLw_PHi3"
      }
    },
    {
      "cell_type": "code",
      "source": [
        "\n",
        "# Base class: Vehicle\n",
        "class Vehicle:\n",
        "    def __init__(self, brand, model):\n",
        "        self.brand = brand\n",
        "        self.model = model\n",
        "\n",
        "    def display_details(self):\n",
        "        print(\"Brand:\", self.brand)\n",
        "        print(\"Model:\", self.model)\n",
        "\n",
        "# Derived class: Car\n",
        "class Car(Vehicle):\n",
        "    def __init__(self, brand, model, num_doors):\n",
        "        super().__init__(brand, model)\n",
        "        self.num_doors = num_doors\n",
        "\n",
        "    def display_car_details(self):\n",
        "        self.display_details()\n",
        "        print(\"Number of Doors:\", self.num_doors)\n",
        "\n",
        "# Derived class: Bike\n",
        "class Bike(Vehicle):\n",
        "    def __init__(self, brand, model, engine_capacity):\n",
        "        super().__init__(brand, model)\n",
        "        self.engine_capacity = engine_capacity\n",
        "\n",
        "    def display_bike_details(self):\n",
        "        self.display_details()\n",
        "        print(\"Engine Capacity:\", self.engine_capacity)\n",
        "\n",
        "# Create instances\n",
        "car = Car(\"Toyota\", \"Camry\", 4)\n",
        "bike = Bike(\"Honda\", \"CBR500R\", 500)\n",
        "\n",
        "# Display details\n",
        "print(\"Car Details:\")\n",
        "car.display_car_details()\n",
        "print(\"\\nBike Details:\")\n",
        "bike.display_bike_details()"
      ],
      "metadata": {
        "id": "U13i8yDbPKXt",
        "outputId": "be2b530a-cb33-4291-abaf-117acd096938",
        "colab": {
          "base_uri": "https://localhost:8080/"
        }
      },
      "execution_count": 10,
      "outputs": [
        {
          "output_type": "stream",
          "name": "stdout",
          "text": [
            "Car Details:\n",
            "Brand: Toyota\n",
            "Model: Camry\n",
            "Number of Doors: 4\n",
            "\n",
            "Bike Details:\n",
            "Brand: Honda\n",
            "Model: CBR500R\n",
            "Engine Capacity: 500\n"
          ]
        }
      ]
    }
  ],
  "metadata": {
    "colab": {
      "name": "Welcome To Colab",
      "provenance": [],
      "include_colab_link": true
    },
    "kernelspec": {
      "display_name": "Python 3",
      "name": "python3"
    }
  },
  "nbformat": 4,
  "nbformat_minor": 0
}