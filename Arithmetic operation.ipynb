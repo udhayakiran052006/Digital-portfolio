{
  "cells": [
    {
      "cell_type": "markdown",
      "metadata": {
        "id": "view-in-github",
        "colab_type": "text"
      },
      "source": [
        "<a href=\"https://colab.research.google.com/github/udhayakiran052006/Digital-portfolio/blob/main/Arithmetic%20operation.ipynb\" target=\"_parent\"><img src=\"https://colab.research.google.com/assets/colab-badge.svg\" alt=\"Open In Colab\"/></a>"
      ]
    },
    {
      "cell_type": "markdown",
      "source": [
        "Arithmetic operation"
      ],
      "metadata": {
        "id": "K2tzAdHsN0tv"
      }
    },
    {
      "cell_type": "code",
      "source": [
        "\n",
        "# Declare variables\n",
        "num1 = 10\n",
        "num2 = 5\n",
        "\n",
        "# Addition\n",
        "addition = num1 + num2\n",
        "print(\"Addition:\", num1, \"+\", num2, \"=\", addition)\n",
        "\n",
        "# Subtraction\n",
        "subtraction = num1 - num2\n",
        "print(\"Subtraction:\", num1, \"-\", num2, \"=\", subtraction)"
      ],
      "metadata": {
        "id": "7YNBQaKpN5oE",
        "outputId": "99900ed5-cf1c-4bbe-ba36-5fc2b62adfcc",
        "colab": {
          "base_uri": "https://localhost:8080/"
        }
      },
      "execution_count": 6,
      "outputs": [
        {
          "output_type": "stream",
          "name": "stdout",
          "text": [
            "Addition: 10 + 5 = 15\n",
            "Subtraction: 10 - 5 = 5\n"
          ]
        }
      ]
    }
  ],
  "metadata": {
    "colab": {
      "name": "Welcome To Colab",
      "provenance": [],
      "include_colab_link": true
    },
    "kernelspec": {
      "display_name": "Python 3",
      "name": "python3"
    }
  },
  "nbformat": 4,
  "nbformat_minor": 0
}