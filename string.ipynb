{
  "cells": [
    {
      "cell_type": "markdown",
      "metadata": {
        "id": "view-in-github",
        "colab_type": "text"
      },
      "source": [
        "<a href=\"https://colab.research.google.com/github/udhayakiran052006/Digital-portfolio/blob/main/string.ipynb\" target=\"_parent\"><img src=\"https://colab.research.google.com/assets/colab-badge.svg\" alt=\"Open In Colab\"/></a>"
      ]
    },
    {
      "cell_type": "markdown",
      "source": [
        "string"
      ],
      "metadata": {
        "id": "aIFaGfrPKYGS"
      }
    },
    {
      "cell_type": "code",
      "source": [
        "# Declare a string variable\n",
        "name = \"John Doe\"\n",
        "\n",
        "# String operations\n",
        "print(\"Original String:\", name)\n",
        "print(\"Uppercase:\", name.upper())\n",
        "print(\"Lowercase:\", name.lower())\n",
        "print(\"Length:\", len(name))\n",
        "print(\"Substring:\", name[0:4])  # Extract \"John\"\n",
        "print(\"Concatenation:\", name + \" is a developer\")\n",
        "\n",
        "# String formatting\n",
        "age = 30\n",
        "print(f\"{name} is {age} years old.\")"
      ],
      "metadata": {
        "id": "ioWFZYtvKdYF",
        "outputId": "3f7f8ddd-d716-49e1-88f2-bacb8c03cf8e",
        "colab": {
          "base_uri": "https://localhost:8080/"
        }
      },
      "execution_count": 1,
      "outputs": [
        {
          "output_type": "stream",
          "name": "stdout",
          "text": [
            "Original String: John Doe\n",
            "Uppercase: JOHN DOE\n",
            "Lowercase: john doe\n",
            "Length: 8\n",
            "Substring: John\n",
            "Concatenation: John Doe is a developer\n",
            "John Doe is 30 years old.\n"
          ]
        }
      ]
    }
  ],
  "metadata": {
    "colab": {
      "name": "Welcome To Colab",
      "provenance": [],
      "include_colab_link": true
    },
    "kernelspec": {
      "display_name": "Python 3",
      "name": "python3"
    }
  },
  "nbformat": 4,
  "nbformat_minor": 0
}